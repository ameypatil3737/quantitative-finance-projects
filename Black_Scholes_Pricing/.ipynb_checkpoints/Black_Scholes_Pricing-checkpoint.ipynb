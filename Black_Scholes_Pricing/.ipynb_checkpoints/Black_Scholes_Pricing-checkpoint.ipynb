{
 "cells": [
  {
   "cell_type": "markdown",
   "id": "d4b3f8f2-4b16-45bf-b76c-59d5b98f4481",
   "metadata": {},
   "source": [
    "Project Example: Implement the Black-Scholes formula for European option pricing."
   ]
  },
  {
   "cell_type": "code",
   "execution_count": null,
   "id": "62ccda59-1099-4c40-adf5-38d844019381",
   "metadata": {},
   "outputs": [],
   "source": []
  },
  {
   "cell_type": "code",
   "execution_count": 2,
   "id": "b58c4327-10d6-4a90-a686-dc9a43a17ad9",
   "metadata": {},
   "outputs": [
    {
     "name": "stdout",
     "output_type": "stream",
     "text": [
      "Call Price: 10.450583572185565\n",
      "Put Price: 5.573526022256971\n"
     ]
    }
   ],
   "source": [
    "from scipy.stats import norm\n",
    "import numpy as np\n",
    "\n",
    "def black_scholes(S, K, T, r, sigma, option_type='call'):\n",
    "    d1 = (np.log(S / K) + (r + 0.5 * sigma**2) * T) / (sigma * np.sqrt(T))\n",
    "    d2 = d1 - sigma * np.sqrt(T)\n",
    "    \n",
    "    if option_type == 'call':\n",
    "        price = S * norm.cdf(d1) - K * np.exp(-r * T) * norm.cdf(d2)\n",
    "    elif option_type == 'put':\n",
    "        price = K * np.exp(-r * T) * norm.cdf(-d2) - S * norm.cdf(-d1)\n",
    "    else:\n",
    "        raise ValueError(\"Option type must be 'call' or 'put'\")\n",
    "    \n",
    "    return price\n",
    "\n",
    "# Example usage\n",
    "S = 100  # Current stock price\n",
    "K = 100  # Strike price\n",
    "T = 1.0  # Time to maturity (in years)\n",
    "r = 0.05  # Risk-free interest rate\n",
    "sigma = 0.2  # Volatility\n",
    "\n",
    "call_price = black_scholes(S, K, T, r, sigma, option_type='call')\n",
    "put_price = black_scholes(S, K, T, r, sigma, option_type='put')\n",
    "\n",
    "print(f\"Call Price: {call_price}\")\n",
    "print(f\"Put Price: {put_price}\")\n"
   ]
  },
  {
   "cell_type": "code",
   "execution_count": null,
   "id": "992a6daf-3cdc-44f7-906a-e8e71a2bb8f0",
   "metadata": {},
   "outputs": [],
   "source": []
  }
 ],
 "metadata": {
  "kernelspec": {
   "display_name": "Python 3 (ipykernel)",
   "language": "python",
   "name": "python3"
  },
  "language_info": {
   "codemirror_mode": {
    "name": "ipython",
    "version": 3
   },
   "file_extension": ".py",
   "mimetype": "text/x-python",
   "name": "python",
   "nbconvert_exporter": "python",
   "pygments_lexer": "ipython3",
   "version": "3.11.7"
  }
 },
 "nbformat": 4,
 "nbformat_minor": 5
}
