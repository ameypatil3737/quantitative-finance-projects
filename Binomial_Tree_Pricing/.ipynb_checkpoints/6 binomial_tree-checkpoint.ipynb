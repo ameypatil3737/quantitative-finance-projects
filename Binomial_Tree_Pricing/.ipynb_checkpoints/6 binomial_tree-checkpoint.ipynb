{
 "cells": [
  {
   "cell_type": "code",
   "execution_count": 1,
   "id": "24fdff66-b55c-4931-bc75-178079765ce4",
   "metadata": {},
   "outputs": [
    {
     "ename": "NameError",
     "evalue": "name 'np' is not defined",
     "output_type": "error",
     "traceback": [
      "\u001b[0;31m---------------------------------------------------------------------------\u001b[0m",
      "\u001b[0;31mNameError\u001b[0m                                 Traceback (most recent call last)",
      "Cell \u001b[0;32mIn[1], line 35\u001b[0m\n\u001b[1;32m     32\u001b[0m sigma \u001b[38;5;241m=\u001b[39m \u001b[38;5;241m0.2\u001b[39m  \u001b[38;5;66;03m# Volatility\u001b[39;00m\n\u001b[1;32m     33\u001b[0m N \u001b[38;5;241m=\u001b[39m \u001b[38;5;241m50\u001b[39m  \u001b[38;5;66;03m# Number of time steps\u001b[39;00m\n\u001b[0;32m---> 35\u001b[0m call_price \u001b[38;5;241m=\u001b[39m binomial_tree(S, K, T, r, sigma, N, option_type\u001b[38;5;241m=\u001b[39m\u001b[38;5;124m'\u001b[39m\u001b[38;5;124mcall\u001b[39m\u001b[38;5;124m'\u001b[39m)\n\u001b[1;32m     36\u001b[0m put_price \u001b[38;5;241m=\u001b[39m binomial_tree(S, K, T, r, sigma, N, option_type\u001b[38;5;241m=\u001b[39m\u001b[38;5;124m'\u001b[39m\u001b[38;5;124mput\u001b[39m\u001b[38;5;124m'\u001b[39m)\n\u001b[1;32m     38\u001b[0m \u001b[38;5;28mprint\u001b[39m(\u001b[38;5;124mf\u001b[39m\u001b[38;5;124m\"\u001b[39m\u001b[38;5;124mCall Price: \u001b[39m\u001b[38;5;132;01m{\u001b[39;00mcall_price\u001b[38;5;132;01m}\u001b[39;00m\u001b[38;5;124m\"\u001b[39m)\n",
      "Cell \u001b[0;32mIn[1], line 3\u001b[0m, in \u001b[0;36mbinomial_tree\u001b[0;34m(S, K, T, r, sigma, N, option_type)\u001b[0m\n\u001b[1;32m      1\u001b[0m \u001b[38;5;28;01mdef\u001b[39;00m \u001b[38;5;21mbinomial_tree\u001b[39m(S, K, T, r, sigma, N, option_type\u001b[38;5;241m=\u001b[39m\u001b[38;5;124m'\u001b[39m\u001b[38;5;124mcall\u001b[39m\u001b[38;5;124m'\u001b[39m):\n\u001b[1;32m      2\u001b[0m     dt \u001b[38;5;241m=\u001b[39m T \u001b[38;5;241m/\u001b[39m N\n\u001b[0;32m----> 3\u001b[0m     u \u001b[38;5;241m=\u001b[39m np\u001b[38;5;241m.\u001b[39mexp(sigma \u001b[38;5;241m*\u001b[39m np\u001b[38;5;241m.\u001b[39msqrt(dt))\n\u001b[1;32m      4\u001b[0m     d \u001b[38;5;241m=\u001b[39m \u001b[38;5;241m1\u001b[39m \u001b[38;5;241m/\u001b[39m u\n\u001b[1;32m      5\u001b[0m     p \u001b[38;5;241m=\u001b[39m (np\u001b[38;5;241m.\u001b[39mexp(r \u001b[38;5;241m*\u001b[39m dt) \u001b[38;5;241m-\u001b[39m d) \u001b[38;5;241m/\u001b[39m (u \u001b[38;5;241m-\u001b[39m d)\n",
      "\u001b[0;31mNameError\u001b[0m: name 'np' is not defined"
     ]
    }
   ],
   "source": [
    "import numpy as np\n",
    "import pandas as pd\n",
    "\n",
    "def binomial_tree(S, K, T, r, sigma, N, option_type='call'):\n",
    "    dt = T / N\n",
    "    u = np.exp(sigma * np.sqrt(dt))\n",
    "    d = 1 / u\n",
    "    p = (np.exp(r * dt) - d) / (u - d)\n",
    "    \n",
    "    # Initialize asset prices at maturity\n",
    "    ST = np.zeros(N + 1)\n",
    "    for i in range(N + 1):\n",
    "        ST[i] = S * (u ** (N - i)) * (d ** i)\n",
    "    \n",
    "    # Initialize option values at maturity\n",
    "    if option_type == 'call':\n",
    "        option_values = np.maximum(0, ST - K)\n",
    "    elif option_type == 'put':\n",
    "        option_values = np.maximum(0, K - ST)\n",
    "    else:\n",
    "        raise ValueError(\"Option type must be 'call' or 'put'\")\n",
    "    \n",
    "    # Step backwards through the tree\n",
    "    for j in range(N - 1, -1, -1):\n",
    "        for i in range(j + 1):\n",
    "            option_values[i] = np.exp(-r * dt) * (p * option_values[i] + (1 - p) * option_values[i + 1])\n",
    "    \n",
    "    return option_values[0]\n",
    "\n",
    "# Example usage\n",
    "S = 100  # Current stock price\n",
    "K = 100  # Strike price\n",
    "T = 1.0  # Time to maturity (in years)\n",
    "r = 0.05  # Risk-free interest rate\n",
    "sigma = 0.2  # Volatility\n",
    "N = 50  # Number of time steps\n",
    "\n",
    "call_price = binomial_tree(S, K, T, r, sigma, N, option_type='call')\n",
    "put_price = binomial_tree(S, K, T, r, sigma, N, option_type='put')\n",
    "\n",
    "print(f\"Call Price: {call_price}\")\n",
    "print(f\"Put Price: {put_price}\")\n"
   ]
  },
  {
   "cell_type": "code",
   "execution_count": null,
   "id": "dc4607b4-f3bc-4217-be12-96e61b48e099",
   "metadata": {},
   "outputs": [],
   "source": []
  }
 ],
 "metadata": {
  "kernelspec": {
   "display_name": "Python 3 (ipykernel)",
   "language": "python",
   "name": "python3"
  },
  "language_info": {
   "codemirror_mode": {
    "name": "ipython",
    "version": 3
   },
   "file_extension": ".py",
   "mimetype": "text/x-python",
   "name": "python",
   "nbconvert_exporter": "python",
   "pygments_lexer": "ipython3",
   "version": "3.11.7"
  }
 },
 "nbformat": 4,
 "nbformat_minor": 5
}
