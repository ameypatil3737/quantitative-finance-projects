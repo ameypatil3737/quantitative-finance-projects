{
 "cells": [
  {
   "cell_type": "code",
   "execution_count": 3,
   "id": "24fdff66-b55c-4931-bc75-178079765ce4",
   "metadata": {},
   "outputs": [
    {
     "name": "stdout",
     "output_type": "stream",
     "text": [
      "Call Price: 10.410691540732644\n",
      "Put Price: 5.533633990803824\n"
     ]
    }
   ],
   "source": [
    "import numpy as np\n",
    "import pandas as pd\n",
    "\n",
    "def binomial_tree(S, K, T, r, sigma, N, option_type='call'):\n",
    "    dt = T / N\n",
    "    u = np.exp(sigma * np.sqrt(dt))\n",
    "    d = 1 / u\n",
    "    p = (np.exp(r * dt) - d) / (u - d)\n",
    "    \n",
    "    # Initialize asset prices at maturity\n",
    "    ST = np.zeros(N + 1)\n",
    "    for i in range(N + 1):\n",
    "        ST[i] = S * (u ** (N - i)) * (d ** i)\n",
    "    \n",
    "    # Initialize option values at maturity\n",
    "    if option_type == 'call':\n",
    "        option_values = np.maximum(0, ST - K)\n",
    "    elif option_type == 'put':\n",
    "        option_values = np.maximum(0, K - ST)\n",
    "    else:\n",
    "        raise ValueError(\"Option type must be 'call' or 'put'\")\n",
    "    \n",
    "    # Step backwards through the tree\n",
    "    for j in range(N - 1, -1, -1):\n",
    "        for i in range(j + 1):\n",
    "            option_values[i] = np.exp(-r * dt) * (p * option_values[i] + (1 - p) * option_values[i + 1])\n",
    "    \n",
    "    return option_values[0]\n",
    "\n",
    "# Example usage\n",
    "S = 100  # Current stock price\n",
    "K = 100  # Strike price\n",
    "T = 1.0  # Time to maturity (in years)\n",
    "r = 0.05  # Risk-free interest rate\n",
    "sigma = 0.2  # Volatility\n",
    "N = 50  # Number of time steps\n",
    "\n",
    "call_price = binomial_tree(S, K, T, r, sigma, N, option_type='call')\n",
    "put_price = binomial_tree(S, K, T, r, sigma, N, option_type='put')\n",
    "\n",
    "print(f\"Call Price: {call_price}\")\n",
    "print(f\"Put Price: {put_price}\")\n"
   ]
  },
  {
   "cell_type": "code",
   "execution_count": null,
   "id": "dc4607b4-f3bc-4217-be12-96e61b48e099",
   "metadata": {},
   "outputs": [],
   "source": []
  }
 ],
 "metadata": {
  "kernelspec": {
   "display_name": "Python 3 (ipykernel)",
   "language": "python",
   "name": "python3"
  },
  "language_info": {
   "codemirror_mode": {
    "name": "ipython",
    "version": 3
   },
   "file_extension": ".py",
   "mimetype": "text/x-python",
   "name": "python",
   "nbconvert_exporter": "python",
   "pygments_lexer": "ipython3",
   "version": "3.11.7"
  }
 },
 "nbformat": 4,
 "nbformat_minor": 5
}
