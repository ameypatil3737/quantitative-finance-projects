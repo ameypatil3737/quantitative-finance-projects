{
 "cells": [
  {
   "cell_type": "code",
   "execution_count": 8,
   "id": "9fe12ddd-d5e0-43b4-b67f-16abe2362992",
   "metadata": {},
   "outputs": [
    {
     "data": {
      "text/plain": [
       "'/Users/nathdwar/quantitative-finance-projects/VaR_Calculation'"
      ]
     },
     "execution_count": 8,
     "metadata": {},
     "output_type": "execute_result"
    }
   ],
   "source": [
    "pwd()"
   ]
  },
  {
   "cell_type": "code",
   "execution_count": 12,
   "id": "25bd6e82-b938-4c4e-8282-4e2e9261232b",
   "metadata": {},
   "outputs": [
    {
     "name": "stdout",
     "output_type": "stream",
     "text": [
      "len(sorted_returns): 250\n",
      "95% VaR: 0.01999219221564008\n"
     ]
    }
   ],
   "source": [
    "import numpy as np\n",
    "import pandas as pd\n",
    "\n",
    "def calculate_var(prices, confidence_level=0.95):\n",
    "    returns = prices.pct_change().dropna()\n",
    "    sorted_returns = np.sort(returns)\n",
    "    index = int((1 - confidence_level) * len(sorted_returns))\n",
    "    print(\"len(sorted_returns):\",len(sorted_returns)) #{len(sorted_returns)}\")\n",
    "    var = abs(sorted_returns[index])\n",
    "    return var\n",
    "\n",
    "# Load data\n",
    "data = pd.read_csv('./historical_stock_prices.csv', index_col='Date', parse_dates=True)\n",
    "prices = data['Close']\n",
    "\n",
    "# Calculate VaR\n",
    "var_95 = calculate_var(prices, 0.95)\n",
    "print(f\"95% VaR: {var_95}\")"
   ]
  },
  {
   "cell_type": "code",
   "execution_count": null,
   "id": "3f3350f6-5b07-4001-8525-242e43ac5970",
   "metadata": {},
   "outputs": [],
   "source": []
  }
 ],
 "metadata": {
  "kernelspec": {
   "display_name": "Python 3 (ipykernel)",
   "language": "python",
   "name": "python3"
  },
  "language_info": {
   "codemirror_mode": {
    "name": "ipython",
    "version": 3
   },
   "file_extension": ".py",
   "mimetype": "text/x-python",
   "name": "python",
   "nbconvert_exporter": "python",
   "pygments_lexer": "ipython3",
   "version": "3.11.7"
  }
 },
 "nbformat": 4,
 "nbformat_minor": 5
}
